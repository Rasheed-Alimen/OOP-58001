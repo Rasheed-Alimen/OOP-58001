{
  "nbformat": 4,
  "nbformat_minor": 0,
  "metadata": {
    "colab": {
      "provenance": [],
      "authorship_tag": "ABX9TyMaHAeyKmTfc7xwNu6RFZbm",
      "include_colab_link": true
    },
    "kernelspec": {
      "name": "python3",
      "display_name": "Python 3"
    },
    "language_info": {
      "name": "python"
    }
  },
  "cells": [
    {
      "cell_type": "markdown",
      "metadata": {
        "id": "view-in-github",
        "colab_type": "text"
      },
      "source": [
        "<a href=\"https://colab.research.google.com/github/Rasheed-Alimen/OOP-58001/blob/main/MIDTERM_EXAM_PROBLEM_1_(colab).ipynb\" target=\"_parent\"><img src=\"https://colab.research.google.com/assets/colab-badge.svg\" alt=\"Open In Colab\"/></a>"
      ]
    },
    {
      "cell_type": "code",
      "execution_count": 1,
      "metadata": {
        "colab": {
          "base_uri": "https://localhost:8080/"
        },
        "id": "MOgKajBxEmPh",
        "outputId": "9f685bb1-ab83-4df0-e993-6fd95e5bf983"
      },
      "outputs": [
        {
          "output_type": "stream",
          "name": "stdout",
          "text": [
            "Enter the radius of circle: 12\n",
            "Area of the circle is:  452.448\n",
            "Perimeter of the circle is:  75.36\n"
          ]
        }
      ],
      "source": [
        "class Circle():\n",
        "\n",
        "    def radius(self,radius):\n",
        "        rad = radius\n",
        "    def area(self,rad):\n",
        "        area = 3.142*rad*rad\n",
        "        print(\"Area of the circle is: \", area)\n",
        "    def peri(self,rad):\n",
        "        peri = 2*3.14*rad\n",
        "        print(\"Perimeter of the circle is: \",peri)\n",
        "\n",
        "c = Circle()\n",
        "radius = int(input(\"Enter the radius of circle: \"))\n",
        "c.area(radius)\n",
        "c.peri(radius)"
      ]
    }
  ]
}