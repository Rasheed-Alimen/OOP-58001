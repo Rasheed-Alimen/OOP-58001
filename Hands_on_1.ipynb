{
  "nbformat": 4,
  "nbformat_minor": 0,
  "metadata": {
    "colab": {
      "provenance": [],
      "authorship_tag": "ABX9TyMvUWXGE8Bzu8O3rxe+SclM",
      "include_colab_link": true
    },
    "kernelspec": {
      "name": "python3",
      "display_name": "Python 3"
    },
    "language_info": {
      "name": "python"
    }
  },
  "cells": [
    {
      "cell_type": "markdown",
      "metadata": {
        "id": "view-in-github",
        "colab_type": "text"
      },
      "source": [
        "<a href=\"https://colab.research.google.com/github/Rasheed-Alimen/OOP-58001/blob/main/Hands_on_1.ipynb\" target=\"_parent\"><img src=\"https://colab.research.google.com/assets/colab-badge.svg\" alt=\"Open In Colab\"/></a>"
      ]
    },
    {
      "cell_type": "code",
      "execution_count": null,
      "metadata": {
        "id": "nAk7mFxCZsNG"
      },
      "outputs": [],
      "source": [
        "class RegularPolygon:\n",
        "  def __init__(self,side):\n",
        "    self.side = side\n",
        "class Square(RegularPolygon):\n",
        "  def area(self):\n",
        "    return self.side*self.side\n",
        "class EquilateralTriangle(RegularPolygon):\n",
        "  def area(self):\n",
        "    return self.side*self.side*0.433"
      ]
    },
    {
      "cell_type": "markdown",
      "source": [],
      "metadata": {
        "id": "olI9AHrAa5j4"
      }
    },
    {
      "cell_type": "code",
      "source": [
        "class Person(): \n",
        "  def __init__(self, std, pre, mid, fin):\n",
        "      self.__std = std\n",
        "      self.__pre = pre\n",
        "      self.__mid = mid\n",
        "      self.__fin = fin \n",
        "  def Grade(self):\n",
        "      print(\" Average Grade is : \", round((self.__pre + self.__mid + self.__fin) / 3, 2))\n",
        "      print()\n",
        "  def Display(self):\n",
        "      print(self.__std)\n",
        "      print(\" your Prelim grade is : \", self.__pre)\n",
        "      print(\" your Midterm grade is : \", self.__mid)\n",
        "      print(\" your Finals grade is : \", self.__fin)\n",
        "class std1(Person):\n",
        "  pass\n",
        "class std2(Person):\n",
        "  pass\n",
        "class std3(Person):\n",
        "  pass\n",
        "\n",
        "Student1 = std1(\"Guy somewan\", 87, 89, 92)\n",
        "Student1.Display()\n",
        "Student1.Grade()\n",
        "Student2 = std2(\"Dood somwer\", 89, 88, 91)\n",
        "Student2.Display()\n",
        "Student2.Grade()\n",
        "Student3 = std3(\"David normal\", 88, 81, 96)\n",
        "Student3.Display()\n",
        "Student3.Grade()\n",
        "      "
      ],
      "metadata": {
        "id": "nmT_lsSDarp_",
        "colab": {
          "base_uri": "https://localhost:8080/"
        },
        "outputId": "859cf738-c43e-48f3-c816-a61809a2826b"
      },
      "execution_count": 6,
      "outputs": [
        {
          "output_type": "stream",
          "name": "stdout",
          "text": [
            "Guy somewan\n",
            " your Prelim grade is :  87\n",
            " your Midterm grade is :  89\n",
            " your Finals grade is :  92\n",
            " Average Grade is :  89.33\n",
            "\n",
            "Dood somwer\n",
            " your Prelim grade is :  89\n",
            " your Midterm grade is :  88\n",
            " your Finals grade is :  91\n",
            " Average Grade is :  89.33\n",
            "\n",
            "David normal\n",
            " your Prelim grade is :  88\n",
            " your Midterm grade is :  81\n",
            " your Finals grade is :  96\n",
            " Average Grade is :  88.33\n",
            "\n"
          ]
        }
      ]
    }
  ]
}