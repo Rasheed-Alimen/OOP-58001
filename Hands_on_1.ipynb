{
  "nbformat": 4,
  "nbformat_minor": 0,
  "metadata": {
    "colab": {
      "provenance": [],
      "authorship_tag": "ABX9TyPjUkW1qtUCQL7ootIs6725",
      "include_colab_link": true
    },
    "kernelspec": {
      "name": "python3",
      "display_name": "Python 3"
    },
    "language_info": {
      "name": "python"
    }
  },
  "cells": [
    {
      "cell_type": "markdown",
      "metadata": {
        "id": "view-in-github",
        "colab_type": "text"
      },
      "source": [
        "<a href=\"https://colab.research.google.com/github/Rasheed-Alimen/OOP-58001/blob/main/Hands_on_1.ipynb\" target=\"_parent\"><img src=\"https://colab.research.google.com/assets/colab-badge.svg\" alt=\"Open In Colab\"/></a>"
      ]
    },
    {
      "cell_type": "code",
      "execution_count": 5,
      "metadata": {
        "id": "nAk7mFxCZsNG"
      },
      "outputs": [],
      "source": [
        "class RegularPolygon:\n",
        "  def __init__(self,side):\n",
        "    self.side = side\n",
        "class Square(RegularPolygon):\n",
        "  def area(self):\n",
        "    return self.side*self.side\n",
        "class EquilateralTriangle(RegularPolygon):\n",
        "  def area(self):\n",
        "    return self.side*self.side*0.433"
      ]
    },
    {
      "cell_type": "markdown",
      "source": [],
      "metadata": {
        "id": "olI9AHrAa5j4"
      }
    },
    {
      "cell_type": "code",
      "source": [
        "class Person: \n",
        "  def __init__(self,std,pre,mid,fin):\n",
        "    self.__std = std\n",
        "    self.__pre = pre\n",
        "    self.__mid = mid\n",
        "    self.__fin = fin\n",
        "    def display(self):\n",
        "      print(self.__std, \", your Prelim grade is : \", self.__pre)\n",
        "      print(self.__std, \", your Midterm grade is : \", self.__mid)\n",
        "      print(self.__std, \", your Finals grade is : \", self.__fin)\n",
        "    def Grade(self):\n",
        "      "
      ],
      "metadata": {
        "id": "nmT_lsSDarp_"
      },
      "execution_count": null,
      "outputs": []
    }
  ]
}