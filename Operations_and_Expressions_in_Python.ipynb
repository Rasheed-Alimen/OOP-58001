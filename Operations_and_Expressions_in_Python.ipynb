{
  "nbformat": 4,
  "nbformat_minor": 0,
  "metadata": {
    "colab": {
      "provenance": [],
      "authorship_tag": "ABX9TyP/rkc/30sssfSHyd+j4KZo",
      "include_colab_link": true
    },
    "kernelspec": {
      "name": "python3",
      "display_name": "Python 3"
    },
    "language_info": {
      "name": "python"
    }
  },
  "cells": [
    {
      "cell_type": "markdown",
      "metadata": {
        "id": "view-in-github",
        "colab_type": "text"
      },
      "source": [
        "<a href=\"https://colab.research.google.com/github/Rasheed-Alimen/OOP-58001/blob/main/Operations_and_Expressions_in_Python.ipynb\" target=\"_parent\"><img src=\"https://colab.research.google.com/assets/colab-badge.svg\" alt=\"Open In Colab\"/></a>"
      ]
    },
    {
      "cell_type": "markdown",
      "source": [
        "Boolean operators"
      ],
      "metadata": {
        "id": "A_-WjSB9Txfk"
      }
    },
    {
      "cell_type": "code",
      "source": [
        "print (10>9)\n",
        "print(10==9)\n",
        "print(10>9)"
      ],
      "metadata": {
        "colab": {
          "base_uri": "https://localhost:8080/"
        },
        "id": "_Tji8YgYTzKE",
        "outputId": "d3179325-7572-48c8-9f89-9abc5dfcc6d5"
      },
      "execution_count": 1,
      "outputs": [
        {
          "output_type": "stream",
          "name": "stdout",
          "text": [
            "True\n",
            "False\n",
            "True\n"
          ]
        }
      ]
    },
    {
      "cell_type": "markdown",
      "source": [
        " Bool()function"
      ],
      "metadata": {
        "id": "VPL5Awp0Uf8P"
      }
    },
    {
      "cell_type": "code",
      "source": [
        "print(bool(\"Maria\"))\n",
        "print(bool(1))\n",
        "print(bool(0))\n",
        "print(bool(None))\n",
        "print(bool(True))"
      ],
      "metadata": {
        "colab": {
          "base_uri": "https://localhost:8080/"
        },
        "id": "dlUdnQqeUmA3",
        "outputId": "e3321603-0301-46a5-c34d-81374168b939"
      },
      "execution_count": 6,
      "outputs": [
        {
          "output_type": "stream",
          "name": "stdout",
          "text": [
            "True\n",
            "True\n",
            "False\n",
            "False\n",
            "True\n"
          ]
        }
      ]
    },
    {
      "cell_type": "markdown",
      "source": [
        "Function can return a boolean"
      ],
      "metadata": {
        "id": "smBDiGadVg1A"
      }
    },
    {
      "cell_type": "code",
      "source": [
        "def myFunction():\n",
        "  return True\n",
        "print(myFunction())"
      ],
      "metadata": {
        "colab": {
          "base_uri": "https://localhost:8080/"
        },
        "id": "vifEy-UXVkKW",
        "outputId": "6ac5e3e6-bb6a-4bf9-b296-78c61fb47a51"
      },
      "execution_count": 11,
      "outputs": [
        {
          "output_type": "stream",
          "name": "stdout",
          "text": [
            "True\n"
          ]
        }
      ]
    },
    {
      "cell_type": "code",
      "source": [
        "def myFunction():\n",
        "  return True\n",
        "\n",
        "if myFunction():\n",
        "  print(\"YES!\")\n",
        "else:\n",
        "  print(\"NO!\")"
      ],
      "metadata": {
        "colab": {
          "base_uri": "https://localhost:8080/"
        },
        "id": "2ryJImw2Wk1_",
        "outputId": "cdf1a369-18dd-43e8-97f2-93d07c9003c3"
      },
      "execution_count": 12,
      "outputs": [
        {
          "output_type": "stream",
          "name": "stdout",
          "text": [
            "YES!\n"
          ]
        }
      ]
    },
    {
      "cell_type": "markdown",
      "source": [
        "You try!"
      ],
      "metadata": {
        "id": "sOtZGhfmXRI7"
      }
    },
    {
      "cell_type": "code",
      "source": [
        "print (10>9)\n",
        "\n",
        "a=6\n",
        "b=7\n",
        "print(a==b)\n",
        "print(a!=b)"
      ],
      "metadata": {
        "colab": {
          "base_uri": "https://localhost:8080/"
        },
        "id": "0tUQypL9XS5T",
        "outputId": "6b9d523a-ce8e-47b3-8d27-772dfdac11ba"
      },
      "execution_count": 13,
      "outputs": [
        {
          "output_type": "stream",
          "name": "stdout",
          "text": [
            "True\n",
            "False\n",
            "True\n"
          ]
        }
      ]
    },
    {
      "cell_type": "markdown",
      "source": [
        "Python operators"
      ],
      "metadata": {
        "id": "I5d4sQ9MYbab"
      }
    },
    {
      "cell_type": "code",
      "source": [
        "print(10+5)\n",
        "print(10-5)\n",
        "print(10*5)\n",
        "print(10 / 5)\n",
        "print(10%5)\n",
        "print(10//5)\n"
      ],
      "metadata": {
        "colab": {
          "base_uri": "https://localhost:8080/"
        },
        "id": "oyETeW_1Yeua",
        "outputId": "a15d808d-4161-4dff-ee4f-0f52fa12220a"
      },
      "execution_count": 16,
      "outputs": [
        {
          "output_type": "stream",
          "name": "stdout",
          "text": [
            "15\n",
            "5\n",
            "50\n",
            "2.0\n",
            "0\n",
            "2\n"
          ]
        }
      ]
    },
    {
      "cell_type": "markdown",
      "source": [
        "Python Bitwise operators"
      ],
      "metadata": {
        "id": "I1t1uck_ZZSD"
      }
    },
    {
      "cell_type": "code",
      "source": [
        "a= 60\n",
        "b= 13\n",
        "\n",
        "a>>1"
      ],
      "metadata": {
        "colab": {
          "base_uri": "https://localhost:8080/"
        },
        "id": "4Lthohd0ZciM",
        "outputId": "256f9ed3-06ab-4c41-e828-ed978a0902bd"
      },
      "execution_count": 19,
      "outputs": [
        {
          "output_type": "execute_result",
          "data": {
            "text/plain": [
              "30"
            ]
          },
          "metadata": {},
          "execution_count": 19
        }
      ]
    },
    {
      "cell_type": "markdown",
      "source": [
        "Python assignment operators"
      ],
      "metadata": {
        "id": "ifvKk69_g_OP"
      }
    },
    {
      "cell_type": "code",
      "source": [
        "x=5\n",
        "x+=3   #same as x = x + 3\n",
        "print (x)\n",
        "x/=3  #same as x = x / 3\n",
        "print (x)\n",
        "x-=3 #same as x = x - 3\n",
        "print (x)\n",
        "x*=3 #same as x = x * 3\n",
        "print (x)\n",
        "x%=3 #same as x = x % 3\n",
        "print (x)"
      ],
      "metadata": {
        "colab": {
          "base_uri": "https://localhost:8080/"
        },
        "id": "LvWjkLJ5hBo2",
        "outputId": "9f22e987-1190-43fd-c17d-4ac8649591b2"
      },
      "execution_count": 29,
      "outputs": [
        {
          "output_type": "stream",
          "name": "stdout",
          "text": [
            "8\n",
            "2.6666666666666665\n",
            "-0.3333333333333335\n",
            "-1.0000000000000004\n",
            "1.9999999999999996\n"
          ]
        }
      ]
    },
    {
      "cell_type": "markdown",
      "source": [
        "Logical operators"
      ],
      "metadata": {
        "id": "Z6q6WQ2VjI-v"
      }
    },
    {
      "cell_type": "code",
      "source": [
        "#and or xor not\n",
        "\n",
        "a = True\n",
        "b = False\n",
        "\n",
        "print(not(a and b))\n",
        " "
      ],
      "metadata": {
        "colab": {
          "base_uri": "https://localhost:8080/"
        },
        "id": "O2db7YaLjLIG",
        "outputId": "471d77cd-2b7e-4d1e-97d8-0aaab97ba775"
      },
      "execution_count": 34,
      "outputs": [
        {
          "output_type": "stream",
          "name": "stdout",
          "text": [
            "True\n"
          ]
        }
      ]
    },
    {
      "cell_type": "markdown",
      "source": [
        "Identity operators"
      ],
      "metadata": {
        "id": "peRQkRxnj943"
      }
    },
    {
      "cell_type": "code",
      "source": [
        "a = True\n",
        "b = False\n",
        "\n",
        "print (a is a)\n",
        "print (a is b)"
      ],
      "metadata": {
        "colab": {
          "base_uri": "https://localhost:8080/"
        },
        "id": "14grckJej_jI",
        "outputId": "aad00ee7-7e40-4f5a-b763-55f3b9d9b844"
      },
      "execution_count": 33,
      "outputs": [
        {
          "output_type": "stream",
          "name": "stdout",
          "text": [
            "True\n",
            "False\n"
          ]
        }
      ]
    }
  ]
}