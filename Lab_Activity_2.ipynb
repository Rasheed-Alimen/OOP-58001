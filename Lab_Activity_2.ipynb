{
  "nbformat": 4,
  "nbformat_minor": 0,
  "metadata": {
    "colab": {
      "provenance": [],
      "authorship_tag": "ABX9TyMdOkbnivvwdrLbNxUc5bHo",
      "include_colab_link": true
    },
    "kernelspec": {
      "name": "python3",
      "display_name": "Python 3"
    },
    "language_info": {
      "name": "python"
    }
  },
  "cells": [
    {
      "cell_type": "markdown",
      "metadata": {
        "id": "view-in-github",
        "colab_type": "text"
      },
      "source": [
        "<a href=\"https://colab.research.google.com/github/Rasheed-Alimen/OOP-58001/blob/main/Lab_Activity_2.ipynb\" target=\"_parent\"><img src=\"https://colab.research.google.com/assets/colab-badge.svg\" alt=\"Open In Colab\"/></a>"
      ]
    },
    {
      "cell_type": "code",
      "execution_count": 2,
      "metadata": {
        "colab": {
          "base_uri": "https://localhost:8080/"
        },
        "id": "U6qP-_i_XIba",
        "outputId": "93456f48-cf71-4c49-b920-900924ff419b"
      },
      "outputs": [
        {
          "output_type": "stream",
          "name": "stdout",
          "text": [
            "Enter radius of the circle: 6\n",
            "Area of the circle is : 113.09733552923255\n",
            "Perimeter of the circle is : 37.69911184307752\n"
          ]
        }
      ],
      "source": [
        "class Circle:\n",
        "  def __init__ (self, radius):\n",
        "    self.radius = radius\n",
        "    self.pi = math.pi\n",
        "  def Area(self):\n",
        "    return self.pi * (self.radius ** 2)\n",
        "  def Perimeter(self):\n",
        "    return 2 * self.pi * self.radius\n",
        "  def Display(self):\n",
        "    print(\"Area of the circle is :\", self.Area())\n",
        "    print(\"Perimeter of the circle is :\", self.Perimeter())\n",
        "\n",
        "import math\n",
        "\n",
        "round = Circle(float(input(\"Enter radius of the circle: \")))\n",
        "round.Display()"
      ]
    }
  ]
}