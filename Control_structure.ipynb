{
  "nbformat": 4,
  "nbformat_minor": 0,
  "metadata": {
    "colab": {
      "provenance": [],
      "authorship_tag": "ABX9TyMr0XLhaB43q+L0wSgLGQ+m",
      "include_colab_link": true
    },
    "kernelspec": {
      "name": "python3",
      "display_name": "Python 3"
    },
    "language_info": {
      "name": "python"
    }
  },
  "cells": [
    {
      "cell_type": "markdown",
      "metadata": {
        "id": "view-in-github",
        "colab_type": "text"
      },
      "source": [
        "<a href=\"https://colab.research.google.com/github/Rasheed-Alimen/OOP-58001/blob/main/Control_structure.ipynb\" target=\"_parent\"><img src=\"https://colab.research.google.com/assets/colab-badge.svg\" alt=\"Open In Colab\"/></a>"
      ]
    },
    {
      "cell_type": "markdown",
      "source": [
        "If statement"
      ],
      "metadata": {
        "id": "doZPAwy9GHrY"
      }
    },
    {
      "cell_type": "code",
      "execution_count": 14,
      "metadata": {
        "id": "BHL127lDDsq7"
      },
      "outputs": [],
      "source": [
        "x = 12\n",
        "b = 100\n",
        "if b>a:\n",
        " print(\"b is greater than a\")"
      ]
    },
    {
      "cell_type": "markdown",
      "source": [
        "Elif statement"
      ],
      "metadata": {
        "id": "dK71eAXrEmbJ"
      }
    },
    {
      "cell_type": "code",
      "source": [
        "a = 12\n",
        "b = 12\n",
        "if b>a:\n",
        "  print(\"b is greater than a\")\n",
        "elif a==b:\n",
        "  print(\"a is greater than b\") "
      ],
      "metadata": {
        "colab": {
          "base_uri": "https://localhost:8080/"
        },
        "id": "uPGB3RS1En25",
        "outputId": "343da120-acc7-4095-d56f-34011f6674dd"
      },
      "execution_count": 6,
      "outputs": [
        {
          "output_type": "stream",
          "name": "stdout",
          "text": [
            "a is greater than b\n"
          ]
        }
      ]
    },
    {
      "cell_type": "markdown",
      "source": [
        "Else statements "
      ],
      "metadata": {
        "id": "KZhrpyDbGP7n"
      }
    },
    {
      "cell_type": "code",
      "source": [
        "a = 200\n",
        "b = 33\n",
        "if b>a:\n",
        "  print(\"b is greater than a\")\n",
        "elif a==b:\n",
        "  print(\"a and b are equal\")\n",
        "else:\n",
        "  print(\"a is greater than b\")"
      ],
      "metadata": {
        "colab": {
          "base_uri": "https://localhost:8080/"
        },
        "id": "c88nbgKrGSc3",
        "outputId": "b6848a61-c1f0-4d37-db92-30d8aafc01f6"
      },
      "execution_count": 7,
      "outputs": [
        {
          "output_type": "stream",
          "name": "stdout",
          "text": [
            "a is greater than b\n"
          ]
        }
      ]
    },
    {
      "cell_type": "markdown",
      "source": [
        "Short hand if statement"
      ],
      "metadata": {
        "id": "pzkd9Fh0H5q4"
      }
    },
    {
      "cell_type": "code",
      "source": [
        "if a>b: print(\"a is greater than b\")"
      ],
      "metadata": {
        "colab": {
          "base_uri": "https://localhost:8080/"
        },
        "id": "KyHMUIQfH77I",
        "outputId": "91048b40-cecf-4ed8-bb21-8fda1e72cfdc"
      },
      "execution_count": 9,
      "outputs": [
        {
          "output_type": "stream",
          "name": "stdout",
          "text": [
            "a is greater than b\n"
          ]
        }
      ]
    },
    {
      "cell_type": "markdown",
      "source": [
        "Short hand if..else statement"
      ],
      "metadata": {
        "id": "f72dFdRcIGWw"
      }
    },
    {
      "cell_type": "code",
      "source": [
        "a = 2\n",
        "b = 330 \n",
        "print(\"A\") if a>b else print(\"B\")"
      ],
      "metadata": {
        "colab": {
          "base_uri": "https://localhost:8080/"
        },
        "id": "aN-Hd2xsIJNA",
        "outputId": "4770821e-a833-41d3-e22c-1dc36c434997"
      },
      "execution_count": 10,
      "outputs": [
        {
          "output_type": "stream",
          "name": "stdout",
          "text": [
            "B\n"
          ]
        }
      ]
    },
    {
      "cell_type": "markdown",
      "source": [
        "And-both conditions are true"
      ],
      "metadata": {
        "id": "MPkOO1cqIRYn"
      }
    },
    {
      "cell_type": "code",
      "source": [
        "a = 200\n",
        "b = 33\n",
        "c = 500\n",
        "if a > b and c > a:\n",
        "  print(\"Both conditions are True\")"
      ],
      "metadata": {
        "colab": {
          "base_uri": "https://localhost:8080/"
        },
        "id": "-Vt9Jh2BITmH",
        "outputId": "ddd8c193-39b4-4d8a-9a08-a8c6a15d5d67"
      },
      "execution_count": 11,
      "outputs": [
        {
          "output_type": "stream",
          "name": "stdout",
          "text": [
            "Both conditions are True\n"
          ]
        }
      ]
    },
    {
      "cell_type": "markdown",
      "source": [
        "Or-at least one of the conditions is true"
      ],
      "metadata": {
        "id": "_ElJXf1kIfyP"
      }
    },
    {
      "cell_type": "code",
      "source": [
        "a = 200\n",
        "b = 33\n",
        "c = 500\n",
        "if a > b or a > c:\n",
        "  print(\"At least one of the conditions is True\")"
      ],
      "metadata": {
        "colab": {
          "base_uri": "https://localhost:8080/"
        },
        "id": "lIh0m3zFIhPH",
        "outputId": "f532c401-0464-4838-d668-f3a3be399dcf"
      },
      "execution_count": 13,
      "outputs": [
        {
          "output_type": "stream",
          "name": "stdout",
          "text": [
            "At least one of the conditions is True\n"
          ]
        }
      ]
    },
    {
      "cell_type": "markdown",
      "source": [
        "Nested if"
      ],
      "metadata": {
        "id": "udN_oVyvIuan"
      }
    },
    {
      "cell_type": "code",
      "source": [
        "x = 41\n",
        "if x > 10:\n",
        "  print(\"Above ten,\")\n",
        "if x > 20:\n",
        "  print(\"and also above 20!\")\n",
        "  if x > 30:\n",
        "   print(\"and also above 30\")\n",
        "  else:\n",
        "     print(\"below 30\")\n",
        "     "
      ],
      "metadata": {
        "colab": {
          "base_uri": "https://localhost:8080/"
        },
        "id": "JDyRV-clIvvX",
        "outputId": "841d8f52-6987-44e8-b67b-a7a7711df8a8"
      },
      "execution_count": 23,
      "outputs": [
        {
          "output_type": "stream",
          "name": "stdout",
          "text": [
            "Above ten,\n",
            "and also above 20!\n",
            "and also above 30\n"
          ]
        }
      ]
    },
    {
      "cell_type": "markdown",
      "source": [
        "Example 1"
      ],
      "metadata": {
        "id": "bW-zzb7kMTxP"
      }
    },
    {
      "cell_type": "code",
      "source": [
        "print(\"Determine if input age is qualified for voting or not\")\n",
        "print(\" \")\n",
        "print(\"Enter age\")\n",
        "age = int(input())\n",
        "if age > 18:\n",
        "  print(\"You are qualified to vote\")\n",
        "else:\n",
        "  print(\"You are not qualified to vote\")"
      ],
      "metadata": {
        "colab": {
          "base_uri": "https://localhost:8080/"
        },
        "id": "yAVOvEI8MU7m",
        "outputId": "5bc4e2e4-e654-480e-f666-58a0c91987a8"
      },
      "execution_count": 24,
      "outputs": [
        {
          "output_type": "stream",
          "name": "stdout",
          "text": [
            "Determine if input age is qualified for voting or not\n",
            " \n",
            "Enter age\n",
            "21\n",
            "You are qualified to vote\n"
          ]
        }
      ]
    },
    {
      "cell_type": "markdown",
      "source": [
        "Example 2"
      ],
      "metadata": {
        "id": "TPF28r6tNB0X"
      }
    },
    {
      "cell_type": "code",
      "source": [
        "print(\"Determine if the input number is Positive, Negative, or Zero\")\n",
        "print(\"\")\n",
        "print(\"Enter number: \")\n",
        "num = int(input())\n",
        "if num > 0:\n",
        "  print(\"The number is positive\")\n",
        "elif num == 0:\n",
        "  print(\"The number is Zero\")\n",
        "else:\n",
        "  print(\"The number is Negative\")\n",
        "\n"
      ],
      "metadata": {
        "colab": {
          "base_uri": "https://localhost:8080/"
        },
        "id": "UUqM9dwJNDIu",
        "outputId": "7350b7ab-884d-4b2e-8ee8-5d971cabf683"
      },
      "execution_count": 26,
      "outputs": [
        {
          "output_type": "stream",
          "name": "stdout",
          "text": [
            "Determine if the input number is Positive, Negative, or Zero\n",
            "\n",
            "Enter number: \n",
            "-8\n",
            "The number is Negative\n"
          ]
        }
      ]
    },
    {
      "cell_type": "markdown",
      "source": [
        "Example 3"
      ],
      "metadata": {
        "id": "ynMMa3O8N2He"
      }
    },
    {
      "cell_type": "code",
      "source": [
        "print(\"Determine if the inputted grade is Passed, Remedial, or Failed\")\n",
        "print(\"\")\n",
        "print(\"Enter grade\")\n",
        "grade = int(input())\n",
        "if grade >= 75:\n",
        "  print(\"PASSED\")\n",
        "elif grade == 74:\n",
        "  print(\"REMEDIAL\")\n",
        "else:\n",
        "  print(\"FAILED\")"
      ],
      "metadata": {
        "colab": {
          "base_uri": "https://localhost:8080/"
        },
        "id": "06Rc3nW8N8F-",
        "outputId": "698f3399-6a94-47c5-e7dc-995af31d0bf2"
      },
      "execution_count": 29,
      "outputs": [
        {
          "output_type": "stream",
          "name": "stdout",
          "text": [
            "Determine if the inputted grade is Passed, Remedial, or Failed\n",
            "\n",
            "Enter grade\n",
            "74\n",
            "REMEDIAL\n"
          ]
        }
      ]
    }
  ]
}