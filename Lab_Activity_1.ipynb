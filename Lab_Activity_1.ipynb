{
  "nbformat": 4,
  "nbformat_minor": 0,
  "metadata": {
    "colab": {
      "provenance": [],
      "authorship_tag": "ABX9TyMQb4K2SKNi+jZw436OuOjR",
      "include_colab_link": true
    },
    "kernelspec": {
      "name": "python3",
      "display_name": "Python 3"
    },
    "language_info": {
      "name": "python"
    }
  },
  "cells": [
    {
      "cell_type": "markdown",
      "metadata": {
        "id": "view-in-github",
        "colab_type": "text"
      },
      "source": [
        "<a href=\"https://colab.research.google.com/github/Rasheed-Alimen/OOP-58001/blob/main/Lab_Activity_1.ipynb\" target=\"_parent\"><img src=\"https://colab.research.google.com/assets/colab-badge.svg\" alt=\"Open In Colab\"/></a>"
      ]
    },
    {
      "cell_type": "code",
      "execution_count": 2,
      "metadata": {
        "colab": {
          "base_uri": "https://localhost:8080/"
        },
        "id": "86_nWOCDHonf",
        "outputId": "c6544658-6e69-484c-d5d1-ca19ad4f0f0b"
      },
      "outputs": [
        {
          "output_type": "stream",
          "name": "stdout",
          "text": [
            "sum= 20\n",
            "sum= 39\n",
            "sum= 57\n",
            "sum= 74\n",
            "sum= 90\n",
            "sum= 105\n",
            "sum= 119\n",
            "sum= 132\n",
            "sum= 144\n",
            "sum= 155\n",
            "sum= 165\n",
            "sum= 174\n",
            "sum= 182\n",
            "sum= 189\n",
            "sum= 195\n",
            "sum= 200\n",
            "sum= 204\n",
            "sum= 207\n",
            "sum= 209\n",
            "sum= 210\n",
            "sum= 210\n",
            "Average= 10.5\n"
          ]
        }
      ],
      "source": [
        "n = 20\n",
        "total_numbers = n\n",
        "sum = 0 \n",
        "average = 0 \n",
        "\n",
        "while n >= 0:\n",
        "  sum += n\n",
        "  n -= 1\n",
        "  print(\"sum=\", sum) \n",
        "average = sum/total_numbers\n",
        "\n",
        "print(\"Average=\", average)"
      ]
    }
  ]
}