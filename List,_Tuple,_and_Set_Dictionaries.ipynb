{
  "nbformat": 4,
  "nbformat_minor": 0,
  "metadata": {
    "colab": {
      "provenance": [],
      "authorship_tag": "ABX9TyPy4xF3J9vZld728mCDvNeM",
      "include_colab_link": true
    },
    "kernelspec": {
      "name": "python3",
      "display_name": "Python 3"
    },
    "language_info": {
      "name": "python"
    }
  },
  "cells": [
    {
      "cell_type": "markdown",
      "metadata": {
        "id": "view-in-github",
        "colab_type": "text"
      },
      "source": [
        "<a href=\"https://colab.research.google.com/github/Rasheed-Alimen/OOP-58001/blob/main/List%2C_Tuple%2C_and_Set_Dictionaries.ipynb\" target=\"_parent\"><img src=\"https://colab.research.google.com/assets/colab-badge.svg\" alt=\"Open In Colab\"/></a>"
      ]
    },
    {
      "cell_type": "markdown",
      "source": [
        "List, Tuple, and Set Dictionaries"
      ],
      "metadata": {
        "id": "w7Cpl0ufHWd3"
      }
    },
    {
      "cell_type": "markdown",
      "source": [
        "Variables and data types"
      ],
      "metadata": {
        "id": "nuXklcx7LX8P"
      }
    },
    {
      "cell_type": "code",
      "execution_count": 1,
      "metadata": {
        "id": "9wbH2GC4HIAU"
      },
      "outputs": [],
      "source": [
        "#numbers\n",
        "varNum = 123\n",
        "pi = 3.14159"
      ]
    },
    {
      "cell_type": "code",
      "source": [
        "#strings\n",
        "varString = \"Hello world!\"\n",
        "varText = \"This is a string\""
      ],
      "metadata": {
        "id": "D6PD3YaaLmCf"
      },
      "execution_count": 3,
      "outputs": []
    },
    {
      "cell_type": "code",
      "source": [
        "#Lists\n",
        "varList = [\"abc\", 123]"
      ],
      "metadata": {
        "id": "Cx-QEtLnL13_"
      },
      "execution_count": 4,
      "outputs": []
    },
    {
      "cell_type": "code",
      "source": [
        "#Tuples\n",
        "varTuple = ('abc', 123, \"HELLO\")"
      ],
      "metadata": {
        "id": "bm9Ku5KhL81v"
      },
      "execution_count": 5,
      "outputs": []
    },
    {
      "cell_type": "code",
      "source": [
        "#Dictionaries\n",
        "var = 3\n",
        "varDict = {'first' :1, '2' : '2nd' , 3:var}\n",
        "\n",
        "varDict = {}\n",
        "varDict['first']=1\n",
        "varDict['2'] = '2nd'\n",
        "varDict[3] = var"
      ],
      "metadata": {
        "id": "hu2RT2I9MKzn"
      },
      "execution_count": 6,
      "outputs": []
    },
    {
      "cell_type": "markdown",
      "source": [
        "Arithmetic"
      ],
      "metadata": {
        "id": "yCi4nUjnM8tQ"
      }
    },
    {
      "cell_type": "code",
      "source": [
        "a = 5 + 3"
      ],
      "metadata": {
        "id": "0yXDCfdYM-_o"
      },
      "execution_count": 8,
      "outputs": []
    },
    {
      "cell_type": "code",
      "source": [
        "a = 5 - 3"
      ],
      "metadata": {
        "id": "qrLk0lyTNbUY"
      },
      "execution_count": 10,
      "outputs": []
    },
    {
      "cell_type": "code",
      "source": [
        "a = 5 * 3"
      ],
      "metadata": {
        "id": "8Dan9lKeNdzA"
      },
      "execution_count": 9,
      "outputs": []
    },
    {
      "cell_type": "code",
      "source": [
        "a = 5 ** 3"
      ],
      "metadata": {
        "id": "-POObRaHNfuQ"
      },
      "execution_count": 11,
      "outputs": []
    },
    {
      "cell_type": "code",
      "source": [
        "a = 5 / 3 "
      ],
      "metadata": {
        "id": "7tiz4swVNjZ4"
      },
      "execution_count": 12,
      "outputs": []
    },
    {
      "cell_type": "code",
      "source": [
        "a = 5 % 3"
      ],
      "metadata": {
        "id": "gRMMPcv0Ns3g"
      },
      "execution_count": 13,
      "outputs": []
    },
    {
      "cell_type": "code",
      "source": [
        "a = 5 // 3"
      ],
      "metadata": {
        "id": "WhJJqP8mNudw"
      },
      "execution_count": 14,
      "outputs": []
    },
    {
      "cell_type": "markdown",
      "source": [
        "Arithmetic"
      ],
      "metadata": {
        "id": "76G2YUSMNw3Q"
      }
    },
    {
      "cell_type": "code",
      "source": [
        "#increment/decrement\n",
        "\n",
        "a = 5\n",
        "a +=1"
      ],
      "metadata": {
        "id": "WMulKvoeNybw"
      },
      "execution_count": null,
      "outputs": []
    },
    {
      "cell_type": "code",
      "source": [
        "#Decrement\n",
        "\n",
        "a = 5\n",
        "a -= 1"
      ],
      "metadata": {
        "id": "qxepETIjN4lQ"
      },
      "execution_count": null,
      "outputs": []
    },
    {
      "cell_type": "code",
      "source": [
        "#string concatenation\n",
        "a = 'Hello' + 'World'"
      ],
      "metadata": {
        "id": "iWrXKECjN__g"
      },
      "execution_count": null,
      "outputs": []
    },
    {
      "cell_type": "code",
      "source": [
        "#complex expressions\n",
        "\n",
        "a = 3 + 5 - 6 * 2 / 4"
      ],
      "metadata": {
        "id": "ap8miLKyOMWg"
      },
      "execution_count": null,
      "outputs": []
    },
    {
      "cell_type": "markdown",
      "source": [
        "Functions"
      ],
      "metadata": {
        "id": "Qv6gWPO6OvBx"
      }
    },
    {
      "cell_type": "markdown",
      "source": [
        "def function name commands"
      ],
      "metadata": {
        "id": "FIVf4hMtOyg5"
      }
    },
    {
      "cell_type": "code",
      "source": [
        "def remainder(n, m):\n",
        "  while True: \n",
        "    if n - m < 0:\n",
        "      return n\n",
        "    else:\n",
        "      n = n - m\n",
        "\n",
        "remainder(10, 4)"
      ],
      "metadata": {
        "colab": {
          "base_uri": "https://localhost:8080/"
        },
        "id": "Kdu3VV0YO19R",
        "outputId": "5393eb79-9a47-441b-9f13-d9aa0863f7e9"
      },
      "execution_count": 15,
      "outputs": [
        {
          "output_type": "execute_result",
          "data": {
            "text/plain": [
              "2"
            ]
          },
          "metadata": {},
          "execution_count": 15
        }
      ]
    },
    {
      "cell_type": "markdown",
      "source": [
        "Lists"
      ],
      "metadata": {
        "id": "p_ViVAFcPWzo"
      }
    },
    {
      "cell_type": "code",
      "source": [
        "pi = 3.14159\n",
        "varList = [1, 2, 'A', 'B', 'Hello!', pi]\n",
        "print(varList[0])"
      ],
      "metadata": {
        "colab": {
          "base_uri": "https://localhost:8080/"
        },
        "id": "G9qE79xgPX4I",
        "outputId": "c8983353-1b8e-467c-8ddb-5ff6be1eb6cd"
      },
      "execution_count": 16,
      "outputs": [
        {
          "output_type": "stream",
          "name": "stdout",
          "text": [
            "1\n"
          ]
        }
      ]
    },
    {
      "cell_type": "code",
      "source": [
        "print(varList[4])"
      ],
      "metadata": {
        "colab": {
          "base_uri": "https://localhost:8080/"
        },
        "id": "T5e1i314PolA",
        "outputId": "f0590992-0933-4f05-9832-4f56a9a48d74"
      },
      "execution_count": 17,
      "outputs": [
        {
          "output_type": "stream",
          "name": "stdout",
          "text": [
            "Hello!\n"
          ]
        }
      ]
    },
    {
      "cell_type": "code",
      "source": [
        "varList.append('World!')\n",
        "print(varList[6])"
      ],
      "metadata": {
        "colab": {
          "base_uri": "https://localhost:8080/"
        },
        "id": "GzTYKPN0Prlw",
        "outputId": "463e2b2a-58ea-43f6-e071-083c2925b971"
      },
      "execution_count": 18,
      "outputs": [
        {
          "output_type": "stream",
          "name": "stdout",
          "text": [
            "World!\n"
          ]
        }
      ]
    },
    {
      "cell_type": "code",
      "source": [
        "len(varList)"
      ],
      "metadata": {
        "colab": {
          "base_uri": "https://localhost:8080/"
        },
        "id": "RQFTxLkQP5bx",
        "outputId": "dcc759d6-5124-4d42-e760-186ece807041"
      },
      "execution_count": 19,
      "outputs": [
        {
          "output_type": "execute_result",
          "data": {
            "text/plain": [
              "7"
            ]
          },
          "metadata": {},
          "execution_count": 19
        }
      ]
    },
    {
      "cell_type": "code",
      "source": [
        "print(varList[5])"
      ],
      "metadata": {
        "colab": {
          "base_uri": "https://localhost:8080/"
        },
        "id": "YGelNdgrP8x4",
        "outputId": "d4a80b7b-318b-41ee-ab2c-e3cdca83f5a7"
      },
      "execution_count": 20,
      "outputs": [
        {
          "output_type": "stream",
          "name": "stdout",
          "text": [
            "3.14159\n"
          ]
        }
      ]
    },
    {
      "cell_type": "code",
      "source": [
        "varList.remove(pi)\n",
        "print(varList[5])"
      ],
      "metadata": {
        "colab": {
          "base_uri": "https://localhost:8080/"
        },
        "id": "PjaTaeIAQAOB",
        "outputId": "617cf8dc-57af-40dd-cfc0-0f519073dcbf"
      },
      "execution_count": 21,
      "outputs": [
        {
          "output_type": "stream",
          "name": "stdout",
          "text": [
            "World!\n"
          ]
        }
      ]
    },
    {
      "cell_type": "markdown",
      "source": [
        "Example"
      ],
      "metadata": {
        "id": "DjQwIEvdSbuv"
      }
    },
    {
      "cell_type": "code",
      "source": [
        "class Shapes:\n",
        "  def __init__(self, length, width):\n",
        "    self.length = length\n",
        "    self.width = width\n",
        "  def area(self):\n",
        "    return self.length * self.width\n",
        "rectangle = Shapes(10,5)\n",
        "rectangle.area()"
      ],
      "metadata": {
        "colab": {
          "base_uri": "https://localhost:8080/"
        },
        "id": "agq6ybbESmgX",
        "outputId": "1a1e3c2d-d663-4eb8-a82f-c76cbdcf93ff"
      },
      "execution_count": 30,
      "outputs": [
        {
          "output_type": "execute_result",
          "data": {
            "text/plain": [
              "50"
            ]
          },
          "metadata": {},
          "execution_count": 30
        }
      ]
    },
    {
      "cell_type": "code",
      "source": [
        "class Me:\n",
        "  def __init__(self, name, age):\n",
        "    self.name = name\n",
        "    self.age = age\n",
        "  def NameAge(self):\n",
        "    return self.name + self.age\n",
        "a = Me(\"Alimen Rasheed\", \" 19 \")\n",
        "a.NameAge()"
      ],
      "metadata": {
        "colab": {
          "base_uri": "https://localhost:8080/",
          "height": 35
        },
        "id": "hwnArhlyVNlG",
        "outputId": "32a31971-0096-48b1-9156-f7c843e3db64"
      },
      "execution_count": 33,
      "outputs": [
        {
          "output_type": "execute_result",
          "data": {
            "text/plain": [
              "'Alimen Rasheed 19 '"
            ],
            "application/vnd.google.colaboratory.intrinsic+json": {
              "type": "string"
            }
          },
          "metadata": {},
          "execution_count": 33
        }
      ]
    },
    {
      "cell_type": "markdown",
      "source": [
        "Dictionaries"
      ],
      "metadata": {
        "id": "qBtUrD2yWRVy"
      }
    },
    {
      "cell_type": "code",
      "source": [
        "students = {\n",
        "            1:\"Ben\",\n",
        "            2:\"Steve\",\n",
        "            3:\"Joy\", \n",
        "            4:\"Adam\",\n",
        "            5:\"Sheed\"\n",
        "}\n",
        "print(students)"
      ],
      "metadata": {
        "colab": {
          "base_uri": "https://localhost:8080/"
        },
        "id": "ixvmAX7yWX2z",
        "outputId": "55a15349-5f8a-42ec-d017-bdce190b1a28"
      },
      "execution_count": 35,
      "outputs": [
        {
          "output_type": "stream",
          "name": "stdout",
          "text": [
            "{1: 'Ben', 2: 'Steve', 3: 'Joy', 4: 'Adam', 5: 'Sheed'}\n"
          ]
        }
      ]
    }
  ]
}